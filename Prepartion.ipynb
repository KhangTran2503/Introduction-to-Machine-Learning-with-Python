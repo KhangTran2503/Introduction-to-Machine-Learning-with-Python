{
  "nbformat": 4,
  "nbformat_minor": 0,
  "metadata": {
    "colab": {
      "name": "Prepartion.ipynb",
      "provenance": [],
      "authorship_tag": "ABX9TyNkxLZG1v34c0D7JHs2vSDO",
      "include_colab_link": true
    },
    "kernelspec": {
      "name": "python3",
      "display_name": "Python 3"
    }
  },
  "cells": [
    {
      "cell_type": "markdown",
      "metadata": {
        "id": "view-in-github",
        "colab_type": "text"
      },
      "source": [
        "<a href=\"https://colab.research.google.com/github/KhangTran2503/Introduction-to-Machine-Learning-with-Python/blob/master/Prepartion.ipynb\" target=\"_parent\"><img src=\"https://colab.research.google.com/assets/colab-badge.svg\" alt=\"Open In Colab\"/></a>"
      ]
    },
    {
      "cell_type": "markdown",
      "metadata": {
        "id": "5i-gd8zPIjNv",
        "colab_type": "text"
      },
      "source": [
        "**1. Insert image and resize:**\n",
        "> **Syntax:** < img src='Link_image'  title='name_image' class=\"center\" width=\"size_width\" height=\"size_height\" />\n",
        ">\n",
        "> **Example:** Insert image iris flower\n",
        ">\n",
        "> <img src=\"https://drive.google.com/uc?id=1OrqsgBxtJUi9emlIk3P5UAdLlmobBXpN\" title=\"iris flower\" class=\"center\" width=500/>"
      ]
    },
    {
      "cell_type": "markdown",
      "metadata": {
        "id": "iz7ZXo71OhW-",
        "colab_type": "text"
      },
      "source": [
        "**2. Covert link image on ggdrive:**"
      ]
    },
    {
      "cell_type": "code",
      "metadata": {
        "id": "RFPf5duxHMfZ",
        "colab_type": "code",
        "colab": {}
      },
      "source": [
        "def covert_link(link):\n",
        "    IDs = link.lstrip('https://drive.google.com')\n",
        "    IDs = IDs.lstrip('/file/d')\n",
        "    IDs = IDs.lstrip('/open?id=')\n",
        "    IDs = IDs.rstrip('/view?usp=sharing')\n",
        "    prefix = 'https://drive.google.com/uc?id='\n",
        "    newlink = prefix + IDs\n",
        "    return newlink"
      ],
      "execution_count": 0,
      "outputs": []
    },
    {
      "cell_type": "code",
      "metadata": {
        "id": "v_ZhauN_IChY",
        "colab_type": "code",
        "colab": {
          "base_uri": "https://localhost:8080/",
          "height": 35
        },
        "outputId": "59fac077-3047-4c66-9530-5db8131887e5"
      },
      "source": [
        "link = 'https://drive.google.com/file/d/1OrqsgBxtJUi9emlIk3P5UAdLlmobBXpN/view?usp=sharing'\n",
        "print(covert_link(link))"
      ],
      "execution_count": 8,
      "outputs": [
        {
          "output_type": "stream",
          "text": [
            "https://drive.google.com/uc?id=1OrqsgBxtJUi9emlIk3P5UAdLlmobBXpN\n"
          ],
          "name": "stdout"
        }
      ]
    }
  ]
}