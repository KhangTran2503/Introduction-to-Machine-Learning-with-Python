{
  "nbformat": 4,
  "nbformat_minor": 0,
  "metadata": {
    "colab": {
      "name": "Prepartion.ipynb",
      "provenance": [],
      "authorship_tag": "ABX9TyOleRlUjSoMwAzxDKbcK93s",
      "include_colab_link": true
    },
    "kernelspec": {
      "name": "python3",
      "display_name": "Python 3"
    }
  },
  "cells": [
    {
      "cell_type": "markdown",
      "metadata": {
        "id": "view-in-github",
        "colab_type": "text"
      },
      "source": [
        "<a href=\"https://colab.research.google.com/github/KhangTran2503/Introduction-to-Machine-Learning-with-Python/blob/master/Prepartion.ipynb\" target=\"_parent\"><img src=\"https://colab.research.google.com/assets/colab-badge.svg\" alt=\"Open In Colab\"/></a>"
      ]
    },
    {
      "cell_type": "markdown",
      "metadata": {
        "id": "5i-gd8zPIjNv",
        "colab_type": "text"
      },
      "source": [
        "**1. Insert image and resize:**\n",
        "> **Syntax:** < img src='Link_image'  title='name_image' class=\"center\" width=\"size_width\" height=\"size_height\" />\n",
        "\n",
        "> **Example:** Insert image iris flower\n",
        "\n",
        "<img src=\"https://drive.google.com/uc?id=1OrqsgBxtJUi9emlIk3P5UAdLlmobBXpN\" title=\"iris flower\" class=\"center\" width=500/>"
      ]
    }
  ]
}